{
  "nbformat": 4,
  "nbformat_minor": 0,
  "metadata": {
    "colab": {
      "name": "OOP-58001/ OOP_in_Python.ipynb",
      "provenance": [],
      "collapsed_sections": [],
      "authorship_tag": "ABX9TyMhnNJJyXte0kclECkjL/H9",
      "include_colab_link": true
    },
    "kernelspec": {
      "name": "python3",
      "display_name": "Python 3"
    },
    "language_info": {
      "name": "python"
    }
  },
  "cells": [
    {
      "cell_type": "markdown",
      "metadata": {
        "id": "view-in-github",
        "colab_type": "text"
      },
      "source": [
        "<a href=\"https://colab.research.google.com/github/AndreiBenavidez/OOP-58001/blob/main/OOP_58001_OOP_in_Python.ipynb\" target=\"_parent\"><img src=\"https://colab.research.google.com/assets/colab-badge.svg\" alt=\"Open In Colab\"/></a>"
      ]
    },
    {
      "cell_type": "markdown",
      "source": [
        "Create a Class"
      ],
      "metadata": {
        "id": "gCnWJPPEzg2a"
      }
    },
    {
      "cell_type": "code",
      "source": [
        "class TheClass:\n",
        "  pass                  #to create a class without method"
      ],
      "metadata": {
        "id": "GBaPxmcLzjvl"
      },
      "execution_count": null,
      "outputs": []
    },
    {
      "cell_type": "code",
      "source": [
        "class TheClass:         #the name of the class\n",
        " x = 40                 #property of the class named MyClass"
      ],
      "metadata": {
        "id": "klczk8FPzqJR"
      },
      "execution_count": null,
      "outputs": []
    },
    {
      "cell_type": "code",
      "source": [
        "class Car():                       #create a class name Car\n",
        "  def __init__(self,name,color):          \n",
        "    self.name = name               #represent the instance of class name Car\n",
        "    self.color = color \n",
        "\n",
        "  def description(self):\n",
        "    return self.name, self.color \n",
        "\n",
        "  def display (self):\n",
        "    print(\"The name and color of the car\",self.description())\n",
        "\n",
        "obj1 = Car(\"Toyota\",\"black\")      #to create an object with its attribute values \n",
        "obj1.display()"
      ],
      "metadata": {
        "colab": {
          "base_uri": "https://localhost:8080/"
        },
        "id": "lPs0QJOwzuBz",
        "outputId": "947799a8-f49d-41fe-b12e-88e7c10a407f"
      },
      "execution_count": null,
      "outputs": [
        {
          "output_type": "stream",
          "name": "stdout",
          "text": [
            "The name and color of the car ('Toyota', 'black')\n"
          ]
        }
      ]
    },
    {
      "cell_type": "markdown",
      "source": [
        "Modify an Object Property"
      ],
      "metadata": {
        "id": "y1fLLhtuzxX4"
      }
    },
    {
      "cell_type": "code",
      "source": [
        "obj1.name=\"Maserati\"\n",
        "print(obj1.name)"
      ],
      "metadata": {
        "colab": {
          "base_uri": "https://localhost:8080/"
        },
        "id": "wBYMkswXzyCL",
        "outputId": "27e6dcd3-e781-4441-ecd2-79eff67ced80"
      },
      "execution_count": null,
      "outputs": [
        {
          "output_type": "stream",
          "name": "stdout",
          "text": [
            "Maserati\n"
          ]
        }
      ]
    },
    {
      "cell_type": "code",
      "source": [
        "obj1.display()"
      ],
      "metadata": {
        "colab": {
          "base_uri": "https://localhost:8080/"
        },
        "id": "F6RmKEtIz7WA",
        "outputId": "699bf7f0-63d6-4263-f191-b36201301084"
      },
      "execution_count": null,
      "outputs": [
        {
          "output_type": "stream",
          "name": "stdout",
          "text": [
            "The name and color of the car ('Maserati', 'black')\n"
          ]
        }
      ]
    },
    {
      "cell_type": "markdown",
      "source": [
        "Delete Object Property"
      ],
      "metadata": {
        "id": "hu2UELkjz8TM"
      }
    },
    {
      "cell_type": "code",
      "source": [
        "class Car():                       #create a class name Car\n",
        "  def __init__(self,name,color):          \n",
        "    self.name = name               #represent the instance of class name Car\n",
        "    self.color = color \n",
        "\n",
        "  def description(self):\n",
        "    return self.name, self.color \n",
        "\n",
        "  def display (self):\n",
        "    print(\"The name and color of the car\",self.description())\n",
        "\n",
        "\n",
        "obj2 = Car(\"BMW\",\"red\") #to create an object with its attribute values\n",
        "obj2.display()"
      ],
      "metadata": {
        "colab": {
          "base_uri": "https://localhost:8080/"
        },
        "id": "85PGx0Wgz9w7",
        "outputId": "884230ca-3f59-4b9c-b163-fb27e8752083"
      },
      "execution_count": null,
      "outputs": [
        {
          "output_type": "stream",
          "name": "stdout",
          "text": [
            "The name and color of the car ('BMW', 'red')\n"
          ]
        }
      ]
    },
    {
      "cell_type": "markdown",
      "source": [
        "Application 1 - Write a python program to compute the area and perimeter of a rectangle. Use Rectangle as class name, and length and width as attributes"
      ],
      "metadata": {
        "id": "QLG8PSsX0BAc"
      }
    },
    {
      "cell_type": "code",
      "source": [
        "class Rectangle():\n",
        "  def __init__(self, length, width):\n",
        "    self.length = length\n",
        "    self.width = width\n",
        "\n",
        "  def Area(self):\n",
        "    return self.length*self.width\n",
        "\n",
        "  def Perimeter(self):\n",
        "    return 2*(self.length+self.width)\n",
        "\n",
        "  def display(self):\n",
        "    print(\"The area of rectangle is \", self.Area())\n",
        "    print(\"The perimeter of rectangle is \", self.Perimeter())\n",
        "\n",
        "pol = Rectangle(7,4.5)\n",
        "pol.display()"
      ],
      "metadata": {
        "colab": {
          "base_uri": "https://localhost:8080/"
        },
        "id": "jZ47zxHn0BTG",
        "outputId": "655eda97-20c9-41a5-8463-c03a1e50e040"
      },
      "execution_count": null,
      "outputs": [
        {
          "output_type": "stream",
          "name": "stdout",
          "text": [
            "The area of rectangle is  31.5\n",
            "The perimeter of rectangle is  23.0\n"
          ]
        }
      ]
    },
    {
      "cell_type": "markdown",
      "source": [
        "Application 2 - Write a python program to display a class name OOP_58001 with your student no. and fullname (Surname, First Name) as attributes\n",
        "\n"
      ],
      "metadata": {
        "id": "n70sT2U70Eku"
      }
    },
    {
      "cell_type": "code",
      "source": [
        "class OOP_58001:\n",
        "  pass"
      ],
      "metadata": {
        "id": "twcXeBQK0FEM"
      },
      "execution_count": null,
      "outputs": []
    },
    {
      "cell_type": "code",
      "source": [
        "class OOP_58001():                    #create a class named OOP_58001\n",
        "  def __init__(self,number,name):\n",
        "    self.number = number              #represents the student number\n",
        "    self.name = name                  #represents the student's full name\n",
        "\n",
        "  def StudentNumber(self):\n",
        "    return self.number\n",
        "\n",
        "  def FullName(self):\n",
        "    return self.name\n",
        "  \n",
        "  def display(self):\n",
        "    print(\"I am from class OOP_58001\")\n",
        "    print(\"My Student Number is\", self.StudentNumber())\n",
        "    print(\"My Full Name is\", self.FullName())\n",
        "\n",
        "#to display an info with its attributes\n",
        "info = OOP_58001(\"202118362\", \"Andrei G. Benavidez\")     \n",
        "info.display()"
      ],
      "metadata": {
        "colab": {
          "base_uri": "https://localhost:8080/"
        },
        "id": "AZ_3i7Wi0KCz",
        "outputId": "291a249f-4613-4556-a0ca-f10a78a4fb54"
      },
      "execution_count": null,
      "outputs": [
        {
          "output_type": "stream",
          "name": "stdout",
          "text": [
            "I am from class OOP_58001\n",
            "My Student Number is 202118362\n",
            "My Full Name is Andrei G. Benavidez\n"
          ]
        }
      ]
    }
  ]
}