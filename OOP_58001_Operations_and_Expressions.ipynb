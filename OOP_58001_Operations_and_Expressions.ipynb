{
  "nbformat": 4,
  "nbformat_minor": 0,
  "metadata": {
    "colab": {
      "name": "OOP-58001/Operations_and_Expressions.ipynb",
      "provenance": [],
      "collapsed_sections": [],
      "authorship_tag": "ABX9TyOBmKNvnTqlb3pfZ232O4vL",
      "include_colab_link": true
    },
    "kernelspec": {
      "name": "python3",
      "display_name": "Python 3"
    },
    "language_info": {
      "name": "python"
    }
  },
  "cells": [
    {
      "cell_type": "markdown",
      "metadata": {
        "id": "view-in-github",
        "colab_type": "text"
      },
      "source": [
        "<a href=\"https://colab.research.google.com/github/AndreiBenavidez/OOP-58001/blob/main/OOP_58001_Operations_and_Expressions.ipynb\" target=\"_parent\"><img src=\"https://colab.research.google.com/assets/colab-badge.svg\" alt=\"Open In Colab\"/></a>"
      ]
    },
    {
      "cell_type": "markdown",
      "source": [
        "Boolean Operators"
      ],
      "metadata": {
        "id": "_UHvtTUb5-Tq"
      }
    },
    {
      "cell_type": "code",
      "source": [
        "a = 7\n",
        "b = 6\n",
        "\n",
        "print(10>9)\n",
        "print(10<9)\n",
        "print(a>b)"
      ],
      "metadata": {
        "colab": {
          "base_uri": "https://localhost:8080/"
        },
        "id": "NmdE7E8y5--H",
        "outputId": "eeffb4af-c164-4909-a03f-4734447e0623"
      },
      "execution_count": null,
      "outputs": [
        {
          "output_type": "stream",
          "name": "stdout",
          "text": [
            "True\n",
            "False\n",
            "True\n"
          ]
        }
      ]
    },
    {
      "cell_type": "markdown",
      "source": [
        "Bool () Function"
      ],
      "metadata": {
        "id": "KS4dbA_R6KU5"
      }
    },
    {
      "cell_type": "code",
      "source": [
        "print(bool(\"Andrei\"))\n",
        "print(bool(1))\n",
        "print(bool(0))\n",
        "print(bool(None))\n",
        "print(bool(False))\n",
        "print(bool(True))"
      ],
      "metadata": {
        "colab": {
          "base_uri": "https://localhost:8080/"
        },
        "id": "2PlxtXrm6LEW",
        "outputId": "b72ece48-f12c-4409-e701-75dc14490241"
      },
      "execution_count": null,
      "outputs": [
        {
          "output_type": "stream",
          "name": "stdout",
          "text": [
            "True\n",
            "True\n",
            "False\n",
            "False\n",
            "False\n",
            "True\n"
          ]
        }
      ]
    },
    {
      "cell_type": "markdown",
      "source": [
        "Function can return a Boolean"
      ],
      "metadata": {
        "id": "JeDyWims6aFj"
      }
    },
    {
      "cell_type": "code",
      "source": [
        "def my_Function():\n",
        " return True\n",
        "print(my_Function())"
      ],
      "metadata": {
        "colab": {
          "base_uri": "https://localhost:8080/"
        },
        "id": "EUILqYW-6bVt",
        "outputId": "632c283c-4d79-41fe-9ff7-87d9fcabbe0e"
      },
      "execution_count": null,
      "outputs": [
        {
          "output_type": "stream",
          "name": "stdout",
          "text": [
            "True\n"
          ]
        }
      ]
    },
    {
      "cell_type": "code",
      "source": [
        "if my_Function():\n",
        "  print(\"True\")\n",
        "else:\n",
        "  print(\"False\")"
      ],
      "metadata": {
        "colab": {
          "base_uri": "https://localhost:8080/"
        },
        "id": "gqJVM4Tn6jDR",
        "outputId": "55ac1a44-7fef-4992-f227-6f6eebd53398"
      },
      "execution_count": null,
      "outputs": [
        {
          "output_type": "stream",
          "name": "stdout",
          "text": [
            "True\n"
          ]
        }
      ]
    },
    {
      "cell_type": "markdown",
      "source": [
        "Application 1"
      ],
      "metadata": {
        "id": "P9_Cqjn26q0l"
      }
    },
    {
      "cell_type": "code",
      "source": [
        "print (10>9)\n",
        "a=6\n",
        "b=7\n",
        "print(a==b)\n",
        "print(a!=a)"
      ],
      "metadata": {
        "colab": {
          "base_uri": "https://localhost:8080/"
        },
        "id": "4LOyPcSz6sAm",
        "outputId": "fb2f3444-6a14-49b7-8d91-78f1a6a0a766"
      },
      "execution_count": null,
      "outputs": [
        {
          "output_type": "stream",
          "name": "stdout",
          "text": [
            "True\n",
            "False\n",
            "False\n"
          ]
        }
      ]
    },
    {
      "cell_type": "markdown",
      "source": [
        "Python Operators"
      ],
      "metadata": {
        "id": "_gbWIYrL6tu_"
      }
    },
    {
      "cell_type": "code",
      "source": [
        "print(10+5)\n",
        "print(10-5)\n",
        "print(10/3)\n",
        "print(10*5)\n",
        "print(10%5)\n",
        "print(10//3)   #10/3 = 3.3333\n",
        "print(10**2)"
      ],
      "metadata": {
        "colab": {
          "base_uri": "https://localhost:8080/"
        },
        "id": "wKlwrBzF6u9k",
        "outputId": "33636c63-70b1-4575-b190-900d3d8193cb"
      },
      "execution_count": null,
      "outputs": [
        {
          "output_type": "stream",
          "name": "stdout",
          "text": [
            "15\n",
            "5\n",
            "3.3333333333333335\n",
            "50\n",
            "0\n",
            "3\n",
            "100\n"
          ]
        }
      ]
    },
    {
      "cell_type": "markdown",
      "source": [
        "Bitwise Operators"
      ],
      "metadata": {
        "id": "2UTlAPCn6yzi"
      }
    },
    {
      "cell_type": "code",
      "source": [
        "c = 60 # binary 0011 1100\n",
        "d = 13 # binary 0000 1101\n",
        "\n",
        "c&d\n",
        "print(c|d)\n",
        "print(c^d)\n",
        "\n",
        "print(d<<2)"
      ],
      "metadata": {
        "colab": {
          "base_uri": "https://localhost:8080/"
        },
        "id": "aFkHvbb86zOX",
        "outputId": "6d0d065d-b742-4c86-d289-18388782f84a"
      },
      "execution_count": null,
      "outputs": [
        {
          "output_type": "stream",
          "name": "stdout",
          "text": [
            "61\n",
            "49\n",
            "52\n"
          ]
        }
      ]
    },
    {
      "cell_type": "markdown",
      "source": [
        "Logical Operators"
      ],
      "metadata": {
        "id": "-20WTxXg61mO"
      }
    },
    {
      "cell_type": "code",
      "source": [
        "h = True\n",
        "l = False\n",
        "h and l \n",
        "h or l\n",
        "not(h or l)"
      ],
      "metadata": {
        "colab": {
          "base_uri": "https://localhost:8080/"
        },
        "id": "hNdbuHHY7CVX",
        "outputId": "a4abe99a-a1af-4279-bf0f-d0196e18cca6"
      },
      "execution_count": null,
      "outputs": [
        {
          "output_type": "execute_result",
          "data": {
            "text/plain": [
              "False"
            ]
          },
          "metadata": {},
          "execution_count": 8
        }
      ]
    },
    {
      "cell_type": "markdown",
      "source": [
        "Application 2"
      ],
      "metadata": {
        "id": "YAeX_vtb7EIe"
      }
    },
    {
      "cell_type": "code",
      "source": [
        "#Assignment Operators \n",
        "x = 3\n",
        "\n",
        "print(x+=3)\n",
        "print(x-=3)  \n",
        "print(x*=3)  \n",
        "print(x/=3)  \n",
        "print(x%=3)"
      ],
      "metadata": {
        "id": "kCEorSma7I_o"
      },
      "execution_count": null,
      "outputs": []
    },
    {
      "cell_type": "code",
      "source": [
        "x = 100\n",
        "x +=3 # Same as x = x +3, x = 100+3=103\n",
        "print(x)"
      ],
      "metadata": {
        "colab": {
          "base_uri": "https://localhost:8080/"
        },
        "id": "srUOJgqH7JqA",
        "outputId": "6bc6d211-2538-49fc-9914-8bd6bd65a438"
      },
      "execution_count": null,
      "outputs": [
        {
          "output_type": "stream",
          "name": "stdout",
          "text": [
            "103\n"
          ]
        }
      ]
    },
    {
      "cell_type": "markdown",
      "source": [
        "Identity Operators"
      ],
      "metadata": {
        "id": "EDbH2mdc7OAo"
      }
    },
    {
      "cell_type": "code",
      "source": [
        "h is l \n",
        "h is not l\n"
      ],
      "metadata": {
        "colab": {
          "base_uri": "https://localhost:8080/"
        },
        "id": "2dNr76hQ7Osz",
        "outputId": "a00829ab-7f26-4cda-f474-f6920f98a0e1"
      },
      "execution_count": null,
      "outputs": [
        {
          "output_type": "execute_result",
          "data": {
            "text/plain": [
              "True"
            ]
          },
          "metadata": {},
          "execution_count": 12
        }
      ]
    },
    {
      "cell_type": "markdown",
      "source": [
        "Control Structure"
      ],
      "metadata": {
        "id": "PY_ETyD27fib"
      }
    },
    {
      "cell_type": "markdown",
      "source": [
        "If Statement"
      ],
      "metadata": {
        "id": "BIdvGAsq7lB_"
      }
    },
    {
      "cell_type": "code",
      "source": [
        "if a>b:\n",
        "  print(\"a is greater than b\")"
      ],
      "metadata": {
        "id": "UJk0g_b_7qdk"
      },
      "execution_count": null,
      "outputs": []
    },
    {
      "cell_type": "markdown",
      "source": [
        "Elif Statement"
      ],
      "metadata": {
        "id": "WS8SSjfA7tg7"
      }
    },
    {
      "cell_type": "code",
      "source": [
        "if a<b:\n",
        " print(\"a is less than b\")\n",
        "elif a>b:\n",
        " print(\"a is greater than b\")"
      ],
      "metadata": {
        "colab": {
          "base_uri": "https://localhost:8080/"
        },
        "id": "eaZ45j8Y7u57",
        "outputId": "7f43e71b-5d1f-401e-e410-29d8cc7f43fd"
      },
      "execution_count": null,
      "outputs": [
        {
          "output_type": "stream",
          "name": "stdout",
          "text": [
            "a is less than b\n"
          ]
        }
      ]
    },
    {
      "cell_type": "markdown",
      "source": [
        "Else Statement"
      ],
      "metadata": {
        "id": "QIaL5WHZ76Hb"
      }
    },
    {
      "cell_type": "code",
      "source": [
        "a = 10\n",
        "b = 10\n",
        "\n",
        "\n",
        "if a<b:\n",
        "  print(\"a is less than b\")\n",
        "elif a>b:\n",
        "  print(\"a is greater than b\")\n",
        "else:\n",
        "  print(\"a is equal to b\")"
      ],
      "metadata": {
        "colab": {
          "base_uri": "https://localhost:8080/"
        },
        "id": "p4GEcmQ377Xi",
        "outputId": "eb33a333-7a97-42b8-9fbe-878cb6b97786"
      },
      "execution_count": null,
      "outputs": [
        {
          "output_type": "stream",
          "name": "stdout",
          "text": [
            "a is equal to b\n"
          ]
        }
      ]
    },
    {
      "cell_type": "markdown",
      "source": [
        "Short Hand If Statement\n",
        "\n"
      ],
      "metadata": {
        "id": "oxhs_EBk8Bxm"
      }
    },
    {
      "cell_type": "code",
      "source": [
        "if a==b: print(\"a is equal to b\")"
      ],
      "metadata": {
        "colab": {
          "base_uri": "https://localhost:8080/"
        },
        "id": "LWTcTjkC8CGG",
        "outputId": "a977c0f4-2084-4dc7-fd32-5639bea6462f"
      },
      "execution_count": null,
      "outputs": [
        {
          "output_type": "stream",
          "name": "stdout",
          "text": [
            "a is equal to b\n"
          ]
        }
      ]
    },
    {
      "cell_type": "markdown",
      "source": [
        "Short Hand If...Else Statement"
      ],
      "metadata": {
        "id": "IajGncf48ELS"
      }
    },
    {
      "cell_type": "code",
      "source": [
        "a = 10\n",
        "b = 9\n",
        "print(\"a is greater than b\") if a>b else print('b is greater than a')"
      ],
      "metadata": {
        "colab": {
          "base_uri": "https://localhost:8080/"
        },
        "id": "cUiWcNuf8TqN",
        "outputId": "8a7f7fe2-2efe-428b-935c-919e6c21191e"
      },
      "execution_count": null,
      "outputs": [
        {
          "output_type": "stream",
          "name": "stdout",
          "text": [
            "a is greater than b\n"
          ]
        }
      ]
    },
    {
      "cell_type": "markdown",
      "source": [
        "And"
      ],
      "metadata": {
        "id": "4l3Bncm98VBD"
      }
    },
    {
      "cell_type": "code",
      "source": [
        "if a>b and b==b:\n",
        "  print(\"Both conditions are true\")"
      ],
      "metadata": {
        "colab": {
          "base_uri": "https://localhost:8080/"
        },
        "id": "MBfuv8238VWG",
        "outputId": "88849d59-8e0f-46eb-93f4-613254e7fc2b"
      },
      "execution_count": null,
      "outputs": [
        {
          "output_type": "stream",
          "name": "stdout",
          "text": [
            "Both conditions are true\n"
          ]
        }
      ]
    },
    {
      "cell_type": "markdown",
      "source": [
        "Or"
      ],
      "metadata": {
        "id": "TXbk56T18fRg"
      }
    },
    {
      "cell_type": "code",
      "source": [
        "if a<b or b==b:\n",
        "  print(\"The condition is True\")"
      ],
      "metadata": {
        "colab": {
          "base_uri": "https://localhost:8080/"
        },
        "id": "pRsk3PKF8fpq",
        "outputId": "9837a3ab-ede8-4174-98bd-186438b3f5b6"
      },
      "execution_count": null,
      "outputs": [
        {
          "output_type": "stream",
          "name": "stdout",
          "text": [
            "The condition is True\n"
          ]
        }
      ]
    },
    {
      "cell_type": "markdown",
      "source": [
        "Nested If"
      ],
      "metadata": {
        "id": "y236bio48hdT"
      }
    },
    {
      "cell_type": "code",
      "source": [
        "x = int(input())\n",
        "\n",
        "if x>10:\n",
        "  print(\"x is above 10\")\n",
        "  if x>20:\n",
        "    print(\"and also above 20\")\n",
        "    if x>30:\n",
        "      print(\"and also above 30\")\n",
        "      if x>40:\n",
        "        print(\"and also above 40\")\n",
        "        if x>50:\n",
        "          print(\"and also above 50\")\n",
        "        else:\n",
        "          print(\"but not above 50\")"
      ],
      "metadata": {
        "colab": {
          "base_uri": "https://localhost:8080/"
        },
        "id": "dS5L_QdQ_GkK",
        "outputId": "15a5c3c5-8372-4564-a88a-df0557cabed4"
      },
      "execution_count": 32,
      "outputs": [
        {
          "output_type": "stream",
          "name": "stdout",
          "text": [
            "74\n",
            "x is above 10\n",
            "and also above 20\n",
            "and also above 30\n",
            "and also above 40\n",
            "and also above 50\n"
          ]
        }
      ]
    },
    {
      "cell_type": "markdown",
      "source": [
        "Loop Statement"
      ],
      "metadata": {
        "id": "y3plX_b6_190"
      }
    },
    {
      "cell_type": "markdown",
      "source": [
        "For Loop"
      ],
      "metadata": {
        "id": "hUP2m2ef_3Bk"
      }
    },
    {
      "cell_type": "code",
      "source": [
        "week = ['Sunday',\"Monday\",'Tuesday',\"Wednesday\",\"Thursday\",\"Friday\",\"Saturday\"]\n",
        "\n",
        "for x in week:\n",
        "  print(x)"
      ],
      "metadata": {
        "colab": {
          "base_uri": "https://localhost:8080/"
        },
        "id": "lTgC5n1J_9-p",
        "outputId": "dd53ef0d-df03-4673-c444-db90d4b14bae"
      },
      "execution_count": 33,
      "outputs": [
        {
          "output_type": "stream",
          "name": "stdout",
          "text": [
            "Sunday\n",
            "Monday\n",
            "Tuesday\n",
            "Wednesday\n",
            "Thursday\n",
            "Friday\n",
            "Saturday\n"
          ]
        }
      ]
    },
    {
      "cell_type": "markdown",
      "source": [
        "The Break Statement"
      ],
      "metadata": {
        "id": "NmxqJmDiABi8"
      }
    },
    {
      "cell_type": "code",
      "source": [
        "#to display Sunday to Wednesday using For loop\n",
        "for x in week:\n",
        "  print(x)\n",
        "  if x==\"Wednesday\":\n",
        "    break"
      ],
      "metadata": {
        "colab": {
          "base_uri": "https://localhost:8080/"
        },
        "id": "2-i7qum4ADCT",
        "outputId": "bac16169-dd92-4362-c23e-306be7d6369d"
      },
      "execution_count": 34,
      "outputs": [
        {
          "output_type": "stream",
          "name": "stdout",
          "text": [
            "Sunday\n",
            "Monday\n",
            "Tuesday\n",
            "Wednesday\n"
          ]
        }
      ]
    },
    {
      "cell_type": "code",
      "source": [
        "#to display only Wednesday using break statement\n",
        "\n",
        "for x in week:\n",
        "  if x==\"Wednesday\":\n",
        "    break\n",
        "print(x)"
      ],
      "metadata": {
        "colab": {
          "base_uri": "https://localhost:8080/"
        },
        "id": "V3BeUHB4AJla",
        "outputId": "773ee2ff-13c6-459e-f239-89609c7605ab"
      },
      "execution_count": 35,
      "outputs": [
        {
          "output_type": "stream",
          "name": "stdout",
          "text": [
            "Wednesday\n"
          ]
        }
      ]
    },
    {
      "cell_type": "markdown",
      "source": [
        "While Statement"
      ],
      "metadata": {
        "id": "nxwTkbayAK7s"
      }
    },
    {
      "cell_type": "code",
      "source": [
        "i =1\n",
        "while i<6:\n",
        "  print(i)\n",
        "  i+=1 #same as i = i+1"
      ],
      "metadata": {
        "colab": {
          "base_uri": "https://localhost:8080/"
        },
        "id": "ioKPjllhALvn",
        "outputId": "c3393f2b-6e7d-47f4-e147-1a713ae33a1b"
      },
      "execution_count": 36,
      "outputs": [
        {
          "output_type": "stream",
          "name": "stdout",
          "text": [
            "1\n",
            "2\n",
            "3\n",
            "4\n",
            "5\n"
          ]
        }
      ]
    },
    {
      "cell_type": "markdown",
      "source": [
        "Application 3 - Create a Python program that displays no. 3 using break statement"
      ],
      "metadata": {
        "id": "IYAxUFnIAOvh"
      }
    },
    {
      "cell_type": "code",
      "source": [
        "i =1\n",
        "while i<6:\n",
        "  if i==3:\n",
        "    break\n",
        "  i+=1\n",
        "print(i)"
      ],
      "metadata": {
        "colab": {
          "base_uri": "https://localhost:8080/"
        },
        "id": "ZP2Fydk5AQfV",
        "outputId": "c1858ba8-8ec1-4aca-9558-69deb5e0d1b9"
      },
      "execution_count": 37,
      "outputs": [
        {
          "output_type": "stream",
          "name": "stdout",
          "text": [
            "3\n"
          ]
        }
      ]
    }
  ]
}