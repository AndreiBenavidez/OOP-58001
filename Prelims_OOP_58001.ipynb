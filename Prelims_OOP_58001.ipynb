{
  "nbformat": 4,
  "nbformat_minor": 0,
  "metadata": {
    "colab": {
      "name": "Prelims.OOP-58001.ipynb",
      "provenance": [],
      "authorship_tag": "ABX9TyMX+jmb5+nIT1xlZZhgU133",
      "include_colab_link": true
    },
    "kernelspec": {
      "name": "python3",
      "display_name": "Python 3"
    },
    "language_info": {
      "name": "python"
    }
  },
  "cells": [
    {
      "cell_type": "markdown",
      "metadata": {
        "id": "view-in-github",
        "colab_type": "text"
      },
      "source": [
        "<a href=\"https://colab.research.google.com/github/AndreiBenavidez/OOP-58001/blob/main/Prelims_OOP_58001.ipynb\" target=\"_parent\"><img src=\"https://colab.research.google.com/assets/colab-badge.svg\" alt=\"Open In Colab\"/></a>"
      ]
    },
    {
      "cell_type": "code",
      "source": [
        "class Person:\n",
        "  def __init__(self,student,number,age,school,course):\n",
        "    self.student = student\n",
        "    self.number = number\n",
        "    self.age = age\n",
        "    self.school = school\n",
        "    self.course = course\n",
        "  \n",
        "  def myFunction(self):\n",
        "    print(\"My name is\",self.student,)\n",
        "    print(\"I'm\",self.age,)\n",
        "    print(\"my Student Number is\",self.number)\n",
        "    print(\"My school is \", self.school)\n",
        "    print(\"My course is \", self.course)\n",
        "\n",
        "\n",
        "p1= Person(\"Andrei G. Benavidez\", 202118362, \"19 yrs old\", \"Adamson University\", \"Computer Engineering\")\n",
        "p1.myFunction()"
      ],
      "metadata": {
        "colab": {
          "base_uri": "https://localhost:8080/"
        },
        "id": "QugPXUKOVAtL",
        "outputId": "027f5449-9274-441b-a248-1ad59c7fc044"
      },
      "execution_count": 100,
      "outputs": [
        {
          "output_type": "stream",
          "name": "stdout",
          "text": [
            "My name is Andrei G. Benavidez\n",
            "I'm 19 yrs old\n",
            "my Student Number is 202118362\n",
            "My school is  Adamson University\n",
            "My course is  Computer Engineering\n"
          ]
        }
      ]
    }
  ]
}